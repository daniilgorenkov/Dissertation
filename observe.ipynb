{
 "cells": [
  {
   "cell_type": "code",
   "execution_count": null,
   "metadata": {},
   "outputs": [],
   "source": [
    "import os\n",
    "import pandas as pd\n",
    "import numpy as np\n",
    "import matplotlib.pyplot as plt\n",
    "import seaborn as sns\n",
    "from PDS import PDS as pds"
   ]
  },
  {
   "cell_type": "markdown",
   "metadata": {},
   "source": [
    "# Обработка результатов"
   ]
  },
  {
   "cell_type": "markdown",
   "metadata": {},
   "source": [
    "## **Изучение полученных результатов из УМ**"
   ]
  },
  {
   "cell_type": "code",
   "execution_count": null,
   "metadata": {},
   "outputs": [],
   "source": [
    "pds.get_profile_results(\"loaded\",\"curve_350\",\"ellips10\",60,force=\"side\")"
   ]
  },
  {
   "cell_type": "code",
   "execution_count": null,
   "metadata": {},
   "outputs": [],
   "source": [
    "pds.get_speed_results(\"loaded\",\"straight\",\"normal\",\"greb_24\",\"vertical\")"
   ]
  },
  {
   "cell_type": "code",
   "execution_count": null,
   "metadata": {},
   "outputs": [],
   "source": [
    "\n",
    "wagon_cfg = [\"empty\",\"loaded\"]\n",
    "way_cfg = [\"straight\",\"curve_350\",\"curve_650\"]\n",
    "wheel_cfg = [\"gost\", \"greb_26\",\"greb_28\",\"greb_30\",\"newwagonw\", \"greb_24\"]\n",
    "fault_cfg = [\"normal\",\"polzun15\",\"ellips10\"]\n",
    "\n",
    "ALL_CALCULATIONS_VERTICAL = pds.get_full_calculations(wagon_cfg,way_cfg,wheel_cfg,fault_cfg,force=\"vertical\")\n",
    "\n",
    "ALL_CALCULATIONS_SIDE = pds.get_full_calculations(wagon_cfg,way_cfg,wheel_cfg,fault_cfg,force=\"side\")"
   ]
  },
  {
   "cell_type": "markdown",
   "metadata": {},
   "source": [
    "## **Подготовка инфы для разделения на кастомные фолды**"
   ]
  },
  {
   "cell_type": "markdown",
   "metadata": {},
   "source": [
    "Так как колесо по ГОСТ имеет радиус 475 мм, то полный оборот колеса fold = 2*pi*475"
   ]
  },
  {
   "cell_type": "markdown",
   "metadata": {},
   "source": [
    "Тогда время прохождения полного оборота колеса будет равно t = fold/v "
   ]
  },
  {
   "cell_type": "code",
   "execution_count": null,
   "metadata": {},
   "outputs": [],
   "source": [
    "def time_split(v:int) -> int:\n",
    "    \"\"\"Определение временного промежутка полного оборота колеса\n",
    "    1. v - скорость движения поезда, км/ч\n",
    "    \"\"\"\n",
    "    speed = v/3.6\n",
    "    lenght = 2*np.pi*0.475\n",
    "    t = lenght/speed\n",
    "    return t"
   ]
  },
  {
   "cell_type": "code",
   "execution_count": null,
   "metadata": {},
   "outputs": [],
   "source": [
    "plt.grid(True)\n",
    "sns.lineplot(ALL_CALCULATIONS_VERTICAL[\"empty\"][\"straight\"][\"normal\"][\"gost\"][0])\n",
    "plt.show()"
   ]
  },
  {
   "cell_type": "code",
   "execution_count": null,
   "metadata": {},
   "outputs": [],
   "source": [
    "pds.time_indexes(ALL_CALCULATIONS_VERTICAL[\"empty\"][\"straight\"][\"normal\"][\"greb_24\"])"
   ]
  },
  {
   "cell_type": "code",
   "execution_count": null,
   "metadata": {},
   "outputs": [],
   "source": [
    "ALL_TIME_INDEXES = pds.get_all_time_indexes(ALL_CALCULATIONS_VERTICAL)"
   ]
  },
  {
   "cell_type": "code",
   "execution_count": null,
   "metadata": {},
   "outputs": [],
   "source": [
    "plt.figure().set_size_inches(12,8)\n",
    "plt.grid(True)\n",
    "sns.lineplot(ALL_CALCULATIONS_VERTICAL[\"loaded\"][\"straight\"][\"normal\"][\"gost\"][1])\n",
    "plt.title(\"Не разделенный расчет\")\n",
    "plt.ylabel(\"Вертикальная сила, Н\")\n",
    "plt.xlabel(\"Время, с\")\n",
    "plt.show()"
   ]
  },
  {
   "cell_type": "markdown",
   "metadata": {},
   "source": [
    "**Пример разделения расчета на несколько мелких по обороту колеса**"
   ]
  },
  {
   "cell_type": "code",
   "execution_count": null,
   "metadata": {},
   "outputs": [],
   "source": [
    "devided_result = pds.get_splitted_dataframe(ALL_CALCULATIONS_VERTICAL[\"loaded\"][\"straight\"][\"normal\"][\"gost\"][1],\n",
    "                                       ALL_TIME_INDEXES[\"loaded\"][\"straight\"][\"normal\"][\"gost\"][\"20\"])\n",
    "\n",
    "devided_result_ = pds.get_splitted_dataframe(ALL_CALCULATIONS_SIDE[\"loaded\"][\"straight\"][\"normal\"][\"gost\"][1],\n",
    "                                       ALL_TIME_INDEXES[\"loaded\"][\"straight\"][\"normal\"][\"gost\"][\"20\"])\n",
    "\n",
    "plt.figure().set_size_inches(12,8)\n",
    "plt.grid(True)\n",
    "plt.plot(devided_result)\n",
    "plt.ylabel(\"Вертикальная сила, Н\")\n",
    "plt.xlabel(\"Время, с\")\n",
    "plt.title(\"Раздедение одного расчета по полному обороту колеса\")\n",
    "plt.xlim(0,5)\n",
    "plt.ylim(0,225000)\n",
    "plt.show()"
   ]
  },
  {
   "cell_type": "code",
   "execution_count": null,
   "metadata": {},
   "outputs": [],
   "source": [
    "# ЗАПУСТИТЬ ЭТИ ЯЧЕЙКИ\n",
    "\n",
    "df_vertical = pds.make_frame_from_splits(ALL_CALCULATIONS_VERTICAL,ALL_TIME_INDEXES)\n",
    "DF_VERTICAL = pds.make_pretty_df(df_vertical,\"data_new_raw_vertical.parquet\",True)"
   ]
  },
  {
   "cell_type": "code",
   "execution_count": null,
   "metadata": {},
   "outputs": [],
   "source": [
    "df_side = pds.make_frame_from_splits(ALL_CALCULATIONS_SIDE,ALL_TIME_INDEXES)\n",
    "DF_SIDE = pds.make_pretty_df(df_side,\"data_new_raw_side.parquet\",True)"
   ]
  },
  {
   "cell_type": "markdown",
   "metadata": {},
   "source": [
    "# Подгрузка сохраненных результатов"
   ]
  },
  {
   "cell_type": "code",
   "execution_count": 1,
   "metadata": {},
   "outputs": [],
   "source": [
    "import os\n",
    "import pandas as pd\n",
    "import numpy as np\n",
    "import matplotlib.pyplot as plt\n",
    "import seaborn as sns\n",
    "from PDS import PDS as pds"
   ]
  },
  {
   "cell_type": "code",
   "execution_count": 2,
   "metadata": {},
   "outputs": [],
   "source": [
    "# DF = df_\n",
    "DF_SIDE = pd.read_parquet(\"data_new_raw_side.parquet\")\n",
    "DF_VERTICAL = pd.read_parquet(\"data_new_raw_vertical.parquet\")"
   ]
  },
  {
   "cell_type": "code",
   "execution_count": 3,
   "metadata": {},
   "outputs": [
    {
     "data": {
      "text/html": [
       "<div>\n",
       "<style scoped>\n",
       "    .dataframe tbody tr th:only-of-type {\n",
       "        vertical-align: middle;\n",
       "    }\n",
       "\n",
       "    .dataframe tbody tr th {\n",
       "        vertical-align: top;\n",
       "    }\n",
       "\n",
       "    .dataframe thead th {\n",
       "        text-align: right;\n",
       "    }\n",
       "</style>\n",
       "<table border=\"1\" class=\"dataframe\">\n",
       "  <thead>\n",
       "    <tr style=\"text-align: right;\">\n",
       "      <th></th>\n",
       "      <th></th>\n",
       "      <th>25%</th>\n",
       "      <th>50%</th>\n",
       "      <th>75%</th>\n",
       "      <th>count</th>\n",
       "      <th>kurt</th>\n",
       "      <th>max</th>\n",
       "      <th>mean</th>\n",
       "      <th>min</th>\n",
       "      <th>skew</th>\n",
       "      <th>std</th>\n",
       "      <th>sum</th>\n",
       "      <th>var</th>\n",
       "    </tr>\n",
       "  </thead>\n",
       "  <tbody>\n",
       "    <tr>\n",
       "      <th rowspan=\"5\" valign=\"top\">empty_straight_normal_10_gost</th>\n",
       "      <th>0</th>\n",
       "      <td>-11091.2945</td>\n",
       "      <td>-7695.0806</td>\n",
       "      <td>-5090.5459</td>\n",
       "      <td>215.0</td>\n",
       "      <td>-0.233897</td>\n",
       "      <td>4572.97410</td>\n",
       "      <td>-7727.353586</td>\n",
       "      <td>-16595.238</td>\n",
       "      <td>0.312691</td>\n",
       "      <td>4381.332844</td>\n",
       "      <td>-1.661381e+06</td>\n",
       "      <td>1.919608e+07</td>\n",
       "    </tr>\n",
       "    <tr>\n",
       "      <th>1</th>\n",
       "      <td>-11988.8725</td>\n",
       "      <td>-8809.9502</td>\n",
       "      <td>-6249.2637</td>\n",
       "      <td>215.0</td>\n",
       "      <td>-0.960363</td>\n",
       "      <td>-2141.21260</td>\n",
       "      <td>-9108.305539</td>\n",
       "      <td>-16471.590</td>\n",
       "      <td>-0.236408</td>\n",
       "      <td>3683.999205</td>\n",
       "      <td>-1.958286e+06</td>\n",
       "      <td>1.357185e+07</td>\n",
       "    </tr>\n",
       "    <tr>\n",
       "      <th>2</th>\n",
       "      <td>-14041.4210</td>\n",
       "      <td>-10742.7880</td>\n",
       "      <td>-7864.0198</td>\n",
       "      <td>215.0</td>\n",
       "      <td>-0.813141</td>\n",
       "      <td>-1299.67530</td>\n",
       "      <td>-11051.330162</td>\n",
       "      <td>-20610.469</td>\n",
       "      <td>-0.120031</td>\n",
       "      <td>3959.602067</td>\n",
       "      <td>-2.376036e+06</td>\n",
       "      <td>1.567845e+07</td>\n",
       "    </tr>\n",
       "    <tr>\n",
       "      <th>3</th>\n",
       "      <td>-12863.9020</td>\n",
       "      <td>-9595.0107</td>\n",
       "      <td>-6922.1643</td>\n",
       "      <td>215.0</td>\n",
       "      <td>-0.622037</td>\n",
       "      <td>139.41061</td>\n",
       "      <td>-9705.199496</td>\n",
       "      <td>-19541.955</td>\n",
       "      <td>0.042085</td>\n",
       "      <td>3892.656564</td>\n",
       "      <td>-2.086618e+06</td>\n",
       "      <td>1.515278e+07</td>\n",
       "    </tr>\n",
       "    <tr>\n",
       "      <th>4</th>\n",
       "      <td>-12899.4970</td>\n",
       "      <td>-10761.9910</td>\n",
       "      <td>-8761.3857</td>\n",
       "      <td>215.0</td>\n",
       "      <td>-0.390614</td>\n",
       "      <td>-3988.28860</td>\n",
       "      <td>-11032.573618</td>\n",
       "      <td>-18987.340</td>\n",
       "      <td>-0.260762</td>\n",
       "      <td>3119.499045</td>\n",
       "      <td>-2.372003e+06</td>\n",
       "      <td>9.731274e+06</td>\n",
       "    </tr>\n",
       "  </tbody>\n",
       "</table>\n",
       "</div>"
      ],
      "text/plain": [
       "                                        25%         50%        75%  count  \\\n",
       "empty_straight_normal_10_gost 0 -11091.2945  -7695.0806 -5090.5459  215.0   \n",
       "                              1 -11988.8725  -8809.9502 -6249.2637  215.0   \n",
       "                              2 -14041.4210 -10742.7880 -7864.0198  215.0   \n",
       "                              3 -12863.9020  -9595.0107 -6922.1643  215.0   \n",
       "                              4 -12899.4970 -10761.9910 -8761.3857  215.0   \n",
       "\n",
       "                                     kurt         max          mean  \\\n",
       "empty_straight_normal_10_gost 0 -0.233897  4572.97410  -7727.353586   \n",
       "                              1 -0.960363 -2141.21260  -9108.305539   \n",
       "                              2 -0.813141 -1299.67530 -11051.330162   \n",
       "                              3 -0.622037   139.41061  -9705.199496   \n",
       "                              4 -0.390614 -3988.28860 -11032.573618   \n",
       "\n",
       "                                       min      skew          std  \\\n",
       "empty_straight_normal_10_gost 0 -16595.238  0.312691  4381.332844   \n",
       "                              1 -16471.590 -0.236408  3683.999205   \n",
       "                              2 -20610.469 -0.120031  3959.602067   \n",
       "                              3 -19541.955  0.042085  3892.656564   \n",
       "                              4 -18987.340 -0.260762  3119.499045   \n",
       "\n",
       "                                          sum           var  \n",
       "empty_straight_normal_10_gost 0 -1.661381e+06  1.919608e+07  \n",
       "                              1 -1.958286e+06  1.357185e+07  \n",
       "                              2 -2.376036e+06  1.567845e+07  \n",
       "                              3 -2.086618e+06  1.515278e+07  \n",
       "                              4 -2.372003e+06  9.731274e+06  "
      ]
     },
     "execution_count": 3,
     "metadata": {},
     "output_type": "execute_result"
    }
   ],
   "source": [
    "DF_SIDE.head()"
   ]
  },
  {
   "cell_type": "code",
   "execution_count": 4,
   "metadata": {},
   "outputs": [
    {
     "data": {
      "text/html": [
       "<div>\n",
       "<style scoped>\n",
       "    .dataframe tbody tr th:only-of-type {\n",
       "        vertical-align: middle;\n",
       "    }\n",
       "\n",
       "    .dataframe tbody tr th {\n",
       "        vertical-align: top;\n",
       "    }\n",
       "\n",
       "    .dataframe thead th {\n",
       "        text-align: right;\n",
       "    }\n",
       "</style>\n",
       "<table border=\"1\" class=\"dataframe\">\n",
       "  <thead>\n",
       "    <tr style=\"text-align: right;\">\n",
       "      <th></th>\n",
       "      <th></th>\n",
       "      <th>25%</th>\n",
       "      <th>50%</th>\n",
       "      <th>75%</th>\n",
       "      <th>count</th>\n",
       "      <th>kurt</th>\n",
       "      <th>max</th>\n",
       "      <th>mean</th>\n",
       "      <th>min</th>\n",
       "      <th>skew</th>\n",
       "      <th>std</th>\n",
       "      <th>sum</th>\n",
       "      <th>var</th>\n",
       "    </tr>\n",
       "  </thead>\n",
       "  <tbody>\n",
       "    <tr>\n",
       "      <th rowspan=\"5\" valign=\"top\">empty_straight_normal_10_gost</th>\n",
       "      <th>0</th>\n",
       "      <td>126248.195</td>\n",
       "      <td>127004.93</td>\n",
       "      <td>127457.270</td>\n",
       "      <td>215.0</td>\n",
       "      <td>0.712095</td>\n",
       "      <td>128489.06</td>\n",
       "      <td>126760.678000</td>\n",
       "      <td>123032.87</td>\n",
       "      <td>-0.803691</td>\n",
       "      <td>916.289112</td>\n",
       "      <td>27253545.77</td>\n",
       "      <td>8.395857e+05</td>\n",
       "    </tr>\n",
       "    <tr>\n",
       "      <th>1</th>\n",
       "      <td>127451.105</td>\n",
       "      <td>127666.25</td>\n",
       "      <td>128031.975</td>\n",
       "      <td>215.0</td>\n",
       "      <td>-0.154321</td>\n",
       "      <td>128716.65</td>\n",
       "      <td>127687.467349</td>\n",
       "      <td>126435.99</td>\n",
       "      <td>-0.283763</td>\n",
       "      <td>439.892909</td>\n",
       "      <td>27452805.48</td>\n",
       "      <td>1.935058e+05</td>\n",
       "    </tr>\n",
       "    <tr>\n",
       "      <th>2</th>\n",
       "      <td>127705.360</td>\n",
       "      <td>128518.85</td>\n",
       "      <td>130617.665</td>\n",
       "      <td>215.0</td>\n",
       "      <td>-1.200553</td>\n",
       "      <td>132194.30</td>\n",
       "      <td>129000.508791</td>\n",
       "      <td>126678.78</td>\n",
       "      <td>0.375457</td>\n",
       "      <td>1505.297634</td>\n",
       "      <td>27735109.39</td>\n",
       "      <td>2.265921e+06</td>\n",
       "    </tr>\n",
       "    <tr>\n",
       "      <th>3</th>\n",
       "      <td>126194.690</td>\n",
       "      <td>127737.66</td>\n",
       "      <td>128519.410</td>\n",
       "      <td>215.0</td>\n",
       "      <td>-0.551838</td>\n",
       "      <td>131944.66</td>\n",
       "      <td>127570.362279</td>\n",
       "      <td>124110.58</td>\n",
       "      <td>0.091421</td>\n",
       "      <td>1621.369411</td>\n",
       "      <td>27427627.89</td>\n",
       "      <td>2.628839e+06</td>\n",
       "    </tr>\n",
       "    <tr>\n",
       "      <th>4</th>\n",
       "      <td>126548.895</td>\n",
       "      <td>126879.16</td>\n",
       "      <td>127545.775</td>\n",
       "      <td>215.0</td>\n",
       "      <td>0.913185</td>\n",
       "      <td>129705.06</td>\n",
       "      <td>127062.812000</td>\n",
       "      <td>125834.34</td>\n",
       "      <td>1.052079</td>\n",
       "      <td>714.953224</td>\n",
       "      <td>27318504.58</td>\n",
       "      <td>5.111581e+05</td>\n",
       "    </tr>\n",
       "  </tbody>\n",
       "</table>\n",
       "</div>"
      ],
      "text/plain": [
       "                                        25%        50%         75%  count  \\\n",
       "empty_straight_normal_10_gost 0  126248.195  127004.93  127457.270  215.0   \n",
       "                              1  127451.105  127666.25  128031.975  215.0   \n",
       "                              2  127705.360  128518.85  130617.665  215.0   \n",
       "                              3  126194.690  127737.66  128519.410  215.0   \n",
       "                              4  126548.895  126879.16  127545.775  215.0   \n",
       "\n",
       "                                     kurt        max           mean  \\\n",
       "empty_straight_normal_10_gost 0  0.712095  128489.06  126760.678000   \n",
       "                              1 -0.154321  128716.65  127687.467349   \n",
       "                              2 -1.200553  132194.30  129000.508791   \n",
       "                              3 -0.551838  131944.66  127570.362279   \n",
       "                              4  0.913185  129705.06  127062.812000   \n",
       "\n",
       "                                       min      skew          std  \\\n",
       "empty_straight_normal_10_gost 0  123032.87 -0.803691   916.289112   \n",
       "                              1  126435.99 -0.283763   439.892909   \n",
       "                              2  126678.78  0.375457  1505.297634   \n",
       "                              3  124110.58  0.091421  1621.369411   \n",
       "                              4  125834.34  1.052079   714.953224   \n",
       "\n",
       "                                         sum           var  \n",
       "empty_straight_normal_10_gost 0  27253545.77  8.395857e+05  \n",
       "                              1  27452805.48  1.935058e+05  \n",
       "                              2  27735109.39  2.265921e+06  \n",
       "                              3  27427627.89  2.628839e+06  \n",
       "                              4  27318504.58  5.111581e+05  "
      ]
     },
     "execution_count": 4,
     "metadata": {},
     "output_type": "execute_result"
    }
   ],
   "source": [
    "DF_VERTICAL.head()"
   ]
  },
  {
   "cell_type": "code",
   "execution_count": 5,
   "metadata": {},
   "outputs": [
    {
     "data": {
      "text/plain": [
       "(359544, 12)"
      ]
     },
     "execution_count": 5,
     "metadata": {},
     "output_type": "execute_result"
    }
   ],
   "source": [
    "DF_VERTICAL.shape"
   ]
  },
  {
   "cell_type": "code",
   "execution_count": 6,
   "metadata": {},
   "outputs": [
    {
     "data": {
      "text/html": [
       "<div>\n",
       "<style scoped>\n",
       "    .dataframe tbody tr th:only-of-type {\n",
       "        vertical-align: middle;\n",
       "    }\n",
       "\n",
       "    .dataframe tbody tr th {\n",
       "        vertical-align: top;\n",
       "    }\n",
       "\n",
       "    .dataframe thead th {\n",
       "        text-align: right;\n",
       "    }\n",
       "</style>\n",
       "<table border=\"1\" class=\"dataframe\">\n",
       "  <thead>\n",
       "    <tr style=\"text-align: right;\">\n",
       "      <th></th>\n",
       "      <th></th>\n",
       "      <th>25%</th>\n",
       "      <th>50%</th>\n",
       "      <th>75%</th>\n",
       "      <th>count</th>\n",
       "      <th>kurt</th>\n",
       "      <th>max</th>\n",
       "      <th>mean</th>\n",
       "      <th>min</th>\n",
       "      <th>skew</th>\n",
       "      <th>std</th>\n",
       "      <th>sum</th>\n",
       "      <th>var</th>\n",
       "    </tr>\n",
       "  </thead>\n",
       "  <tbody>\n",
       "    <tr>\n",
       "      <th rowspan=\"15\" valign=\"top\">empty_straight_normal_10_gost</th>\n",
       "      <th>0</th>\n",
       "      <td>126248.1950</td>\n",
       "      <td>127004.93</td>\n",
       "      <td>127457.270</td>\n",
       "      <td>215.0</td>\n",
       "      <td>0.712095</td>\n",
       "      <td>128489.06</td>\n",
       "      <td>126760.678000</td>\n",
       "      <td>123032.87000</td>\n",
       "      <td>-0.803691</td>\n",
       "      <td>916.289112</td>\n",
       "      <td>2.725355e+07</td>\n",
       "      <td>8.395857e+05</td>\n",
       "    </tr>\n",
       "    <tr>\n",
       "      <th>1</th>\n",
       "      <td>127451.1050</td>\n",
       "      <td>127666.25</td>\n",
       "      <td>128031.975</td>\n",
       "      <td>215.0</td>\n",
       "      <td>-0.154321</td>\n",
       "      <td>128716.65</td>\n",
       "      <td>127687.467349</td>\n",
       "      <td>126435.99000</td>\n",
       "      <td>-0.283763</td>\n",
       "      <td>439.892909</td>\n",
       "      <td>2.745281e+07</td>\n",
       "      <td>1.935058e+05</td>\n",
       "    </tr>\n",
       "    <tr>\n",
       "      <th>2</th>\n",
       "      <td>127705.3600</td>\n",
       "      <td>128518.85</td>\n",
       "      <td>130617.665</td>\n",
       "      <td>215.0</td>\n",
       "      <td>-1.200553</td>\n",
       "      <td>132194.30</td>\n",
       "      <td>129000.508791</td>\n",
       "      <td>126678.78000</td>\n",
       "      <td>0.375457</td>\n",
       "      <td>1505.297634</td>\n",
       "      <td>2.773511e+07</td>\n",
       "      <td>2.265921e+06</td>\n",
       "    </tr>\n",
       "    <tr>\n",
       "      <th>3</th>\n",
       "      <td>126194.6900</td>\n",
       "      <td>127737.66</td>\n",
       "      <td>128519.410</td>\n",
       "      <td>215.0</td>\n",
       "      <td>-0.551838</td>\n",
       "      <td>131944.66</td>\n",
       "      <td>127570.362279</td>\n",
       "      <td>124110.58000</td>\n",
       "      <td>0.091421</td>\n",
       "      <td>1621.369411</td>\n",
       "      <td>2.742763e+07</td>\n",
       "      <td>2.628839e+06</td>\n",
       "    </tr>\n",
       "    <tr>\n",
       "      <th>4</th>\n",
       "      <td>126548.8950</td>\n",
       "      <td>126879.16</td>\n",
       "      <td>127545.775</td>\n",
       "      <td>215.0</td>\n",
       "      <td>0.913185</td>\n",
       "      <td>129705.06</td>\n",
       "      <td>127062.812000</td>\n",
       "      <td>125834.34000</td>\n",
       "      <td>1.052079</td>\n",
       "      <td>714.953224</td>\n",
       "      <td>2.731850e+07</td>\n",
       "      <td>5.111581e+05</td>\n",
       "    </tr>\n",
       "    <tr>\n",
       "      <th>5</th>\n",
       "      <td>126508.6550</td>\n",
       "      <td>127269.22</td>\n",
       "      <td>128522.040</td>\n",
       "      <td>215.0</td>\n",
       "      <td>-0.424134</td>\n",
       "      <td>131159.64</td>\n",
       "      <td>127612.129488</td>\n",
       "      <td>125634.27000</td>\n",
       "      <td>0.714055</td>\n",
       "      <td>1345.966395</td>\n",
       "      <td>2.743661e+07</td>\n",
       "      <td>1.811626e+06</td>\n",
       "    </tr>\n",
       "    <tr>\n",
       "      <th>6</th>\n",
       "      <td>127270.6550</td>\n",
       "      <td>131287.77</td>\n",
       "      <td>132180.030</td>\n",
       "      <td>215.0</td>\n",
       "      <td>-0.917315</td>\n",
       "      <td>134591.02</td>\n",
       "      <td>130195.758093</td>\n",
       "      <td>124305.92000</td>\n",
       "      <td>-0.573006</td>\n",
       "      <td>2765.339186</td>\n",
       "      <td>2.799209e+07</td>\n",
       "      <td>7.647101e+06</td>\n",
       "    </tr>\n",
       "    <tr>\n",
       "      <th>7</th>\n",
       "      <td>123335.9950</td>\n",
       "      <td>124113.06</td>\n",
       "      <td>124728.555</td>\n",
       "      <td>215.0</td>\n",
       "      <td>0.190340</td>\n",
       "      <td>127695.05</td>\n",
       "      <td>124161.085581</td>\n",
       "      <td>121648.42000</td>\n",
       "      <td>0.594783</td>\n",
       "      <td>1204.612356</td>\n",
       "      <td>2.669463e+07</td>\n",
       "      <td>1.451091e+06</td>\n",
       "    </tr>\n",
       "    <tr>\n",
       "      <th>8</th>\n",
       "      <td>122561.4125</td>\n",
       "      <td>124238.14</td>\n",
       "      <td>124826.245</td>\n",
       "      <td>214.0</td>\n",
       "      <td>-0.317501</td>\n",
       "      <td>128177.18</td>\n",
       "      <td>123816.053645</td>\n",
       "      <td>119859.16000</td>\n",
       "      <td>-0.378228</td>\n",
       "      <td>1596.119046</td>\n",
       "      <td>2.649664e+07</td>\n",
       "      <td>2.547596e+06</td>\n",
       "    </tr>\n",
       "    <tr>\n",
       "      <th>9</th>\n",
       "      <td>122923.5400</td>\n",
       "      <td>124045.73</td>\n",
       "      <td>125428.210</td>\n",
       "      <td>215.0</td>\n",
       "      <td>6.953195</td>\n",
       "      <td>134962.42</td>\n",
       "      <td>124085.049907</td>\n",
       "      <td>114752.05000</td>\n",
       "      <td>0.364874</td>\n",
       "      <td>2101.677845</td>\n",
       "      <td>2.667829e+07</td>\n",
       "      <td>4.417050e+06</td>\n",
       "    </tr>\n",
       "    <tr>\n",
       "      <th>10</th>\n",
       "      <td>121969.4700</td>\n",
       "      <td>122939.63</td>\n",
       "      <td>123993.310</td>\n",
       "      <td>215.0</td>\n",
       "      <td>2.661525</td>\n",
       "      <td>129143.33</td>\n",
       "      <td>122891.310047</td>\n",
       "      <td>117129.39000</td>\n",
       "      <td>0.052280</td>\n",
       "      <td>1321.856338</td>\n",
       "      <td>2.642163e+07</td>\n",
       "      <td>1.747304e+06</td>\n",
       "    </tr>\n",
       "    <tr>\n",
       "      <th>11</th>\n",
       "      <td>123485.2750</td>\n",
       "      <td>124511.16</td>\n",
       "      <td>126549.245</td>\n",
       "      <td>215.0</td>\n",
       "      <td>1.966523</td>\n",
       "      <td>131474.67</td>\n",
       "      <td>124767.863302</td>\n",
       "      <td>114270.15000</td>\n",
       "      <td>-0.740337</td>\n",
       "      <td>3248.966831</td>\n",
       "      <td>2.682509e+07</td>\n",
       "      <td>1.055579e+07</td>\n",
       "    </tr>\n",
       "    <tr>\n",
       "      <th>12</th>\n",
       "      <td>125903.2350</td>\n",
       "      <td>127338.70</td>\n",
       "      <td>128225.595</td>\n",
       "      <td>215.0</td>\n",
       "      <td>1.322861</td>\n",
       "      <td>130707.06</td>\n",
       "      <td>126896.269442</td>\n",
       "      <td>119040.67000</td>\n",
       "      <td>-1.101457</td>\n",
       "      <td>2238.602534</td>\n",
       "      <td>2.728270e+07</td>\n",
       "      <td>5.011341e+06</td>\n",
       "    </tr>\n",
       "    <tr>\n",
       "      <th>13</th>\n",
       "      <td>122365.2850</td>\n",
       "      <td>123283.09</td>\n",
       "      <td>123788.095</td>\n",
       "      <td>215.0</td>\n",
       "      <td>0.017815</td>\n",
       "      <td>125005.11</td>\n",
       "      <td>123010.603395</td>\n",
       "      <td>119567.49000</td>\n",
       "      <td>-0.708412</td>\n",
       "      <td>1074.399933</td>\n",
       "      <td>2.644728e+07</td>\n",
       "      <td>1.154335e+06</td>\n",
       "    </tr>\n",
       "    <tr>\n",
       "      <th>14</th>\n",
       "      <td>123238.4100</td>\n",
       "      <td>124293.09</td>\n",
       "      <td>126030.575</td>\n",
       "      <td>215.0</td>\n",
       "      <td>21.328424</td>\n",
       "      <td>133385.08</td>\n",
       "      <td>119873.574175</td>\n",
       "      <td>585.20856</td>\n",
       "      <td>-4.800373</td>\n",
       "      <td>23522.432303</td>\n",
       "      <td>2.577282e+07</td>\n",
       "      <td>5.533048e+08</td>\n",
       "    </tr>\n",
       "  </tbody>\n",
       "</table>\n",
       "</div>"
      ],
      "text/plain": [
       "                                          25%        50%         75%  count  \\\n",
       "empty_straight_normal_10_gost 0   126248.1950  127004.93  127457.270  215.0   \n",
       "                              1   127451.1050  127666.25  128031.975  215.0   \n",
       "                              2   127705.3600  128518.85  130617.665  215.0   \n",
       "                              3   126194.6900  127737.66  128519.410  215.0   \n",
       "                              4   126548.8950  126879.16  127545.775  215.0   \n",
       "                              5   126508.6550  127269.22  128522.040  215.0   \n",
       "                              6   127270.6550  131287.77  132180.030  215.0   \n",
       "                              7   123335.9950  124113.06  124728.555  215.0   \n",
       "                              8   122561.4125  124238.14  124826.245  214.0   \n",
       "                              9   122923.5400  124045.73  125428.210  215.0   \n",
       "                              10  121969.4700  122939.63  123993.310  215.0   \n",
       "                              11  123485.2750  124511.16  126549.245  215.0   \n",
       "                              12  125903.2350  127338.70  128225.595  215.0   \n",
       "                              13  122365.2850  123283.09  123788.095  215.0   \n",
       "                              14  123238.4100  124293.09  126030.575  215.0   \n",
       "\n",
       "                                       kurt        max           mean  \\\n",
       "empty_straight_normal_10_gost 0    0.712095  128489.06  126760.678000   \n",
       "                              1   -0.154321  128716.65  127687.467349   \n",
       "                              2   -1.200553  132194.30  129000.508791   \n",
       "                              3   -0.551838  131944.66  127570.362279   \n",
       "                              4    0.913185  129705.06  127062.812000   \n",
       "                              5   -0.424134  131159.64  127612.129488   \n",
       "                              6   -0.917315  134591.02  130195.758093   \n",
       "                              7    0.190340  127695.05  124161.085581   \n",
       "                              8   -0.317501  128177.18  123816.053645   \n",
       "                              9    6.953195  134962.42  124085.049907   \n",
       "                              10   2.661525  129143.33  122891.310047   \n",
       "                              11   1.966523  131474.67  124767.863302   \n",
       "                              12   1.322861  130707.06  126896.269442   \n",
       "                              13   0.017815  125005.11  123010.603395   \n",
       "                              14  21.328424  133385.08  119873.574175   \n",
       "\n",
       "                                           min      skew           std  \\\n",
       "empty_straight_normal_10_gost 0   123032.87000 -0.803691    916.289112   \n",
       "                              1   126435.99000 -0.283763    439.892909   \n",
       "                              2   126678.78000  0.375457   1505.297634   \n",
       "                              3   124110.58000  0.091421   1621.369411   \n",
       "                              4   125834.34000  1.052079    714.953224   \n",
       "                              5   125634.27000  0.714055   1345.966395   \n",
       "                              6   124305.92000 -0.573006   2765.339186   \n",
       "                              7   121648.42000  0.594783   1204.612356   \n",
       "                              8   119859.16000 -0.378228   1596.119046   \n",
       "                              9   114752.05000  0.364874   2101.677845   \n",
       "                              10  117129.39000  0.052280   1321.856338   \n",
       "                              11  114270.15000 -0.740337   3248.966831   \n",
       "                              12  119040.67000 -1.101457   2238.602534   \n",
       "                              13  119567.49000 -0.708412   1074.399933   \n",
       "                              14     585.20856 -4.800373  23522.432303   \n",
       "\n",
       "                                           sum           var  \n",
       "empty_straight_normal_10_gost 0   2.725355e+07  8.395857e+05  \n",
       "                              1   2.745281e+07  1.935058e+05  \n",
       "                              2   2.773511e+07  2.265921e+06  \n",
       "                              3   2.742763e+07  2.628839e+06  \n",
       "                              4   2.731850e+07  5.111581e+05  \n",
       "                              5   2.743661e+07  1.811626e+06  \n",
       "                              6   2.799209e+07  7.647101e+06  \n",
       "                              7   2.669463e+07  1.451091e+06  \n",
       "                              8   2.649664e+07  2.547596e+06  \n",
       "                              9   2.667829e+07  4.417050e+06  \n",
       "                              10  2.642163e+07  1.747304e+06  \n",
       "                              11  2.682509e+07  1.055579e+07  \n",
       "                              12  2.728270e+07  5.011341e+06  \n",
       "                              13  2.644728e+07  1.154335e+06  \n",
       "                              14  2.577282e+07  5.533048e+08  "
      ]
     },
     "execution_count": 6,
     "metadata": {},
     "output_type": "execute_result"
    }
   ],
   "source": [
    "DF_SIDE = pds.delete_unvalid_cols(DF_SIDE)\n",
    "DF_VERTICAL = pds.delete_unvalid_cols(DF_VERTICAL)\n",
    "\n",
    "DF_VERTICAL.head(15)\n",
    "# print(df.shape)"
   ]
  },
  {
   "cell_type": "code",
   "execution_count": null,
   "metadata": {},
   "outputs": [],
   "source": [
    "pds.new_str(\"loaded_curve_650_normal_30_greb_30\")"
   ]
  },
  {
   "cell_type": "code",
   "execution_count": null,
   "metadata": {},
   "outputs": [],
   "source": [
    "DF_VERTICAL = DF_VERTICAL.reset_index().drop([\"level_1\"], axis=1)\n",
    "DF_SIDE = DF_SIDE.reset_index().drop([\"level_1\"], axis=1)\n",
    "\n",
    "DF_SIDE.head(15)"
   ]
  },
  {
   "cell_type": "code",
   "execution_count": null,
   "metadata": {},
   "outputs": [],
   "source": [
    "DF_VERTICAL[\"level_0\"] = DF_VERTICAL[\"level_0\"].map(pds.new_str)\n",
    "DF_SIDE[\"level_0\"] = DF_SIDE[\"level_0\"].map(pds.new_str)"
   ]
  },
  {
   "cell_type": "code",
   "execution_count": null,
   "metadata": {},
   "outputs": [],
   "source": [
    "DF_VERTICAL.head()"
   ]
  },
  {
   "cell_type": "code",
   "execution_count": null,
   "metadata": {},
   "outputs": [],
   "source": [
    "new_cols = [f\"new_col_{i}\" for i in range(6)]\n",
    "\n",
    "DF_VERTICAL[new_cols] = DF_VERTICAL['level_0'].str.split(\"_\", expand=True)\n",
    "DF_SIDE[new_cols] = DF_SIDE['level_0'].str.split(\"_\", expand=True)"
   ]
  },
  {
   "cell_type": "code",
   "execution_count": null,
   "metadata": {},
   "outputs": [],
   "source": [
    "DF_SIDE.head()"
   ]
  },
  {
   "cell_type": "code",
   "execution_count": null,
   "metadata": {},
   "outputs": [],
   "source": [
    "DF_VERTICAL = DF_VERTICAL.drop(\"level_0\", axis=1)\n",
    "DF_SIDE = DF_SIDE.drop(\"level_0\", axis=1)\n",
    "DF_SIDE.head()"
   ]
  },
  {
   "cell_type": "code",
   "execution_count": null,
   "metadata": {},
   "outputs": [],
   "source": [
    "DF_VERTICAL = DF_VERTICAL.drop(\"new_col_5\", axis=1)\n",
    "DF_SIDE = DF_SIDE.drop(\"new_col_5\", axis=1)\n",
    "DF_SIDE.head()"
   ]
  },
  {
   "cell_type": "code",
   "execution_count": null,
   "metadata": {},
   "outputs": [],
   "source": [
    "vertical_columns = ['25%', '50%', '75%', 'count', 'kurt', 'max', 'mean', 'min', 'skew','std', 'sum', 'var'] + [\"wagon_cfg\",\"way_cfg\",\"target\",\"speed\",\"profile\"]\n",
    "side_columns = ['25%', '50%', '75%', 'count', 'kurt', 'max', 'mean', 'min', 'skew','std', 'sum', 'var'] + [\"wagon_cfg\",\"way_cfg\",\"fault\",\"speed\",\"profile\"]\n",
    "\n",
    "DF_VERTICAL.columns=vertical_columns\n",
    "DF_SIDE.columns=side_columns\n",
    "\n",
    "DF_VERTICAL.head()"
   ]
  },
  {
   "cell_type": "code",
   "execution_count": null,
   "metadata": {},
   "outputs": [],
   "source": [
    "DF_SIDE.head()"
   ]
  },
  {
   "cell_type": "code",
   "execution_count": null,
   "metadata": {},
   "outputs": [],
   "source": [
    "DF_VERTICAL = pd.get_dummies(DF_VERTICAL,columns=[\"wagon_cfg\",\"way_cfg\"],drop_first=True)\n",
    "DF_SIDE = pd.get_dummies(DF_SIDE,columns=[\"wagon_cfg\",\"way_cfg\"],drop_first=True).drop(\"fault\",axis=1)"
   ]
  },
  {
   "cell_type": "code",
   "execution_count": null,
   "metadata": {},
   "outputs": [],
   "source": [
    "DF_SIDE.head()"
   ]
  },
  {
   "cell_type": "code",
   "execution_count": null,
   "metadata": {},
   "outputs": [],
   "source": [
    "DF_VERTICAL[\"speed\"] = DF_VERTICAL[\"speed\"].astype(int)\n",
    "DF_SIDE[\"speed\"] = DF_SIDE[\"speed\"].astype(int)"
   ]
  },
  {
   "cell_type": "code",
   "execution_count": null,
   "metadata": {},
   "outputs": [],
   "source": [
    "DF_VERTICAL.columns"
   ]
  },
  {
   "cell_type": "code",
   "execution_count": null,
   "metadata": {},
   "outputs": [],
   "source": [
    "DF_SIDE[\"profile\"] = DF_SIDE[\"profile\"].replace(\"greb\",\"greb26\")\n",
    "DF_VERTICAL[\"profile\"] = DF_VERTICAL[\"profile\"].replace(\"greb\",\"greb26\")"
   ]
  },
  {
   "cell_type": "code",
   "execution_count": null,
   "metadata": {},
   "outputs": [],
   "source": [
    "DF_VERTICAL[\"profile\"].unique()"
   ]
  },
  {
   "cell_type": "code",
   "execution_count": null,
   "metadata": {},
   "outputs": [],
   "source": [
    "DF_SIDE.shape"
   ]
  },
  {
   "cell_type": "markdown",
   "metadata": {},
   "source": [
    "## Encoding таргета"
   ]
  },
  {
   "cell_type": "code",
   "execution_count": null,
   "metadata": {},
   "outputs": [],
   "source": [
    "DF_VERTICAL[\"target\"] = DF_VERTICAL[\"target\"].map(pds.encode_target)\n",
    "DF_SIDE[\"profile\"] = DF_SIDE[\"profile\"].map(pds.encode_target)\n",
    "DF_SIDE.head()"
   ]
  },
  {
   "cell_type": "code",
   "execution_count": null,
   "metadata": {},
   "outputs": [],
   "source": [
    "DF_VERTICAL = pds.set_tuple_cols(DF_VERTICAL,\"Vertical force\")\n",
    "DF_SIDE = pds.set_tuple_cols(DF_SIDE,\"Side force\")"
   ]
  },
  {
   "cell_type": "code",
   "execution_count": null,
   "metadata": {},
   "outputs": [],
   "source": [
    "DF_VERTICAL.shape"
   ]
  },
  {
   "cell_type": "code",
   "execution_count": null,
   "metadata": {},
   "outputs": [],
   "source": [
    "DF_SIDE.shape"
   ]
  },
  {
   "cell_type": "code",
   "execution_count": null,
   "metadata": {},
   "outputs": [],
   "source": [
    "DF = pd.concat([DF_VERTICAL,DF_SIDE],axis=1)\n",
    "DF.head()"
   ]
  },
  {
   "cell_type": "code",
   "execution_count": null,
   "metadata": {},
   "outputs": [],
   "source": [
    "DF.columns"
   ]
  },
  {
   "cell_type": "code",
   "execution_count": null,
   "metadata": {},
   "outputs": [],
   "source": [
    "DF.shape"
   ]
  },
  {
   "cell_type": "code",
   "execution_count": null,
   "metadata": {},
   "outputs": [],
   "source": [
    "DF = DF.dropna(axis=0)"
   ]
  },
  {
   "cell_type": "code",
   "execution_count": null,
   "metadata": {},
   "outputs": [],
   "source": [
    "DF = DF.drop([('Side force', 'way_cfg_straight'),\n",
    "              ('Side force', 'way_cfg_curve650'),\n",
    "              ('Side force', 'wagon_cfg_loaded'),\n",
    "              ('Vertical force', 'profile'),\n",
    "              (    'Side force', 'speed')],axis=1)"
   ]
  },
  {
   "cell_type": "markdown",
   "metadata": {},
   "source": [
    "# Матрицы корреляций"
   ]
  },
  {
   "cell_type": "code",
   "execution_count": null,
   "metadata": {},
   "outputs": [],
   "source": [
    "plt.figure().set_size_inches(14,10)\n",
    "plt.title(\"Корреляция данных для боковой силы\")\n",
    "sns.heatmap(DF.corr(\"pearson\"),annot=True,cbar=False)\n",
    "plt.show()"
   ]
  },
  {
   "cell_type": "markdown",
   "metadata": {},
   "source": [
    "# Обучение моделей диагностирования неисправностей"
   ]
  },
  {
   "cell_type": "code",
   "execution_count": null,
   "metadata": {},
   "outputs": [],
   "source": [
    "from sklearn.pipeline import Pipeline\n",
    "from sklearn.preprocessing import StandardScaler, Normalizer\n",
    "from catboost import CatBoostClassifier\n",
    "from xgboost import XGBClassifier\n",
    "from lightgbm import LGBMClassifier\n",
    "from sklearn.metrics import classification_report\n",
    "from sklearn.model_selection import train_test_split\n",
    "np.random.seed(32)"
   ]
  },
  {
   "cell_type": "code",
   "execution_count": null,
   "metadata": {},
   "outputs": [],
   "source": [
    "X = DF.drop([('Vertical force', '50%'),\n",
    "             ('Vertical force','mean'),\n",
    "             ('Vertical force', \"sum\"),\n",
    "             ('Vertical force', \"count\"),\n",
    "             (\"Side force\", \"count\"),\n",
    "             (\"Side force\", \"sum\"),\n",
    "             (\"Side force\", \"max\"),\n",
    "             (\"Side force\", \"min\"),\n",
    "             (\"Side force\", \"var\"),\n",
    "             (\"Side force\", \"profile\")],axis=1)\n",
    "\n",
    "y = DF[('Vertical force',\"target\")]\n",
    "\n",
    "X_train,X_test,y_train,y_test = train_test_split(X,y,test_size=0.2,shuffle=True)"
   ]
  },
  {
   "cell_type": "code",
   "execution_count": null,
   "metadata": {},
   "outputs": [],
   "source": [
    "digits = 8"
   ]
  },
  {
   "cell_type": "markdown",
   "metadata": {},
   "source": [
    "## XGBoost"
   ]
  },
  {
   "cell_type": "code",
   "execution_count": null,
   "metadata": {},
   "outputs": [],
   "source": [
    "params = {\n",
    "    \"XGBClassifier__n_estimators\":10,\n",
    "    \"XGBClassifier__booster\":\"gblinear\"\n",
    "}\n",
    "\n",
    "xgb_pipe = Pipeline([(\"StandardScaler\",StandardScaler()),(\"XGBClassifier\",XGBClassifier())])\n",
    "\n",
    "xgb_pipe.set_params(**params)\n",
    "\n",
    "xgb_pipe.fit(X_train,y_train)\n",
    "\n",
    "pds.save_results(xgb_pipe,X_test,y_test,model_type=\"vertical\",addition=f\"params: {params}\")\n",
    "\n",
    "print(classification_report(y_test,xgb_pipe.predict(X_test),digits=digits))"
   ]
  },
  {
   "cell_type": "code",
   "execution_count": null,
   "metadata": {},
   "outputs": [],
   "source": [
    "pds.plot_feature_importance(xgb_pipe)"
   ]
  },
  {
   "cell_type": "markdown",
   "metadata": {},
   "source": [
    "## Catboost"
   ]
  },
  {
   "cell_type": "code",
   "execution_count": null,
   "metadata": {},
   "outputs": [],
   "source": [
    "from catboost import CatBoostClassifier\n",
    "\n",
    "params = {\n",
    "    \"CatBoostClassifier__iterations\":5,\n",
    "    \"CatBoostClassifier__depth\":8,\n",
    "    \"CatBoostClassifier__learning_rate\":1.0\n",
    "}\n",
    "\n",
    "cat_pipe = Pipeline([(\"StandardScaler\",StandardScaler()),(\"CatBoostClassifier\",CatBoostClassifier())])\n",
    "\n",
    "cat_pipe.set_params(**params)\n",
    "\n",
    "cat_pipe.fit(X_train,y_train)\n"
   ]
  },
  {
   "cell_type": "code",
   "execution_count": null,
   "metadata": {},
   "outputs": [],
   "source": [
    "print(classification_report(y_test,cat_pipe.predict(X_test),digits=digits))\n",
    "\n",
    "pds.save_results(cat_pipe,X_test,y_test,model_type=\"vertical\",addition=f\"params: {params}\")"
   ]
  },
  {
   "cell_type": "code",
   "execution_count": null,
   "metadata": {},
   "outputs": [],
   "source": [
    "pds.plot_feature_importance(cat_pipe)"
   ]
  },
  {
   "cell_type": "markdown",
   "metadata": {},
   "source": [
    "## LightGBM"
   ]
  },
  {
   "cell_type": "code",
   "execution_count": null,
   "metadata": {},
   "outputs": [],
   "source": [
    "from lightgbm import LGBMClassifier\n",
    "from sklearn.preprocessing import Normalizer\n",
    "\n",
    "params = {\n",
    "    \"LGBMClassifier__n_estimators\":10,\n",
    "    \"LGBMClassifier__max_depth\":8,\n",
    "    \"LGBMClassifier__learning_rate\":1.0,\n",
    "    \"LGBMClassifier__num_leaves\":20\n",
    "}\n",
    "\n",
    "lgbm_pipe = Pipeline([(\"StandardScaler\",StandardScaler()),(\"LGBMClassifier\",LGBMClassifier())])\n",
    "\n",
    "lgbm_pipe.set_params(**params)\n",
    "\n",
    "lgbm_pipe.fit(X_train,y_train)\n",
    "\n",
    "print(classification_report(y_test,lgbm_pipe.predict(X_test),digits=digits))\n",
    "\n",
    "pds.save_results(lgbm_pipe,X_test,y_test,model_type=\"vertical\",addition=f\"params: {params}\")"
   ]
  },
  {
   "cell_type": "code",
   "execution_count": null,
   "metadata": {},
   "outputs": [],
   "source": [
    "pds.plot_feature_importance(lgbm_pipe)"
   ]
  },
  {
   "cell_type": "markdown",
   "metadata": {},
   "source": [
    "## Сводка результатов"
   ]
  },
  {
   "cell_type": "code",
   "execution_count": null,
   "metadata": {},
   "outputs": [],
   "source": [
    "pds.show_stat_results()"
   ]
  },
  {
   "cell_type": "markdown",
   "metadata": {},
   "source": [
    "## AUC_ROC"
   ]
  },
  {
   "cell_type": "code",
   "execution_count": null,
   "metadata": {},
   "outputs": [],
   "source": [
    "from sklearn.metrics import RocCurveDisplay\n",
    "from sklearn.metrics import roc_curve, roc_auc_score\n",
    "\n",
    "fpr,tpr,thresholds = roc_curve(y_true=y_test,y_score=cat_pipe.predict_proba(X_test)[:,1])\n",
    "\n",
    "auc_roc = roc_auc_score(y_true=y_test,y_score=cat_pipe.predict(X_test))\n",
    "\n",
    "display = RocCurveDisplay(fpr=fpr,tpr=tpr,roc_auc=auc_roc, estimator_name=\"Classifier\")\n",
    "\n",
    "display.plot()\n",
    "plt.show()"
   ]
  },
  {
   "cell_type": "code",
   "execution_count": null,
   "metadata": {},
   "outputs": [],
   "source": [
    "fpr,tpr,thresholds = roc_curve(y_true=y_test,y_score=xgb_pipe.predict_proba(X_test)[:,1])\n",
    "\n",
    "auc_roc = roc_auc_score(y_true=y_test,y_score=xgb_pipe.predict(X_test))\n",
    "\n",
    "display = RocCurveDisplay(fpr=fpr,tpr=tpr,roc_auc=auc_roc, estimator_name=\"XGB Classifier\")\n",
    "\n",
    "display.plot()\n",
    "plt.show()"
   ]
  },
  {
   "cell_type": "markdown",
   "metadata": {},
   "source": [
    "**PCA TSNE**"
   ]
  },
  {
   "cell_type": "code",
   "execution_count": null,
   "metadata": {},
   "outputs": [],
   "source": [
    "from sklearn.manifold import TSNE\n",
    "\n",
    "X_embedded = TSNE(n_components=2, learning_rate='auto',\n",
    "                  init='random', perplexity=3).fit_transform(X)\n",
    "\n",
    "X_embedded"
   ]
  },
  {
   "cell_type": "code",
   "execution_count": null,
   "metadata": {},
   "outputs": [],
   "source": [
    "import numpy as np\n",
    "import matplotlib.pyplot as plt\n",
    "import matplotlib.gridspec as gridspec\n",
    "import itertools\n",
    "from sklearn.linear_model import LogisticRegression\n",
    "from sklearn.svm import SVC\n",
    "from sklearn.ensemble import RandomForestClassifier\n",
    "from mlxtend.classifier import EnsembleVoteClassifier\n",
    "from mlxtend.plotting import plot_decision_regions\n",
    "\n",
    "# Initializing Classifiers\n",
    "clf = XGBClassifier()\n",
    "\n",
    "\n",
    "# Loading some example data\n",
    "\n",
    "# print(X)\n",
    "# print(y)\n",
    "\n",
    "# Plotting Decision Regions\n",
    "\n",
    "gs = gridspec.GridSpec(2, 2)\n",
    "fig = plt.figure().set_size_inches(12,8)\n",
    "\n",
    "labels = ['Предсказания модели XGboost']\n",
    "          \n",
    "\n",
    "for clf, lab, grd in zip([clf],\n",
    "                         labels,\n",
    "                         itertools.product([0, 1],\n",
    "                         repeat=2)):\n",
    "    clf.fit(X_embedded, y)\n",
    "    \n",
    "    # ax = plt.subplot(gs[grd[0], grd[1]])\n",
    "    plt.plot(grd[0],grd[1])\n",
    "    fig = plot_decision_regions(X=X_embedded, y=y.to_numpy(),\n",
    "                                clf=clf, legend=1)\n",
    "    plt.title(lab)\n",
    "\n",
    "plt.show()"
   ]
  },
  {
   "cell_type": "markdown",
   "metadata": {},
   "source": [
    "# Обучение моделей для диагностирования толщины гребней"
   ]
  },
  {
   "cell_type": "code",
   "execution_count": null,
   "metadata": {},
   "outputs": [],
   "source": [
    "from sklearn.model_selection import train_test_split\n",
    "\n",
    "X_ = DF.drop([('Vertical force', '50%'),\n",
    "             ('Vertical force','mean'),\n",
    "             ('Vertical force', \"sum\"),\n",
    "             ('Vertical force', \"count\"),\n",
    "             (\"Side force\", \"count\"),\n",
    "             (\"Side force\", \"sum\"),\n",
    "             (\"Side force\", \"max\"),\n",
    "             (\"Side force\", \"min\"),\n",
    "             (\"Side force\", \"var\"),\n",
    "             (\"Vertical force\", \"target\")],axis=1)\n",
    "\n",
    "y_ = DF[(\"Side force\", \"profile\")]\n",
    "\n",
    "X_train_,X_test_,y_train_,y_test_ = train_test_split(X_,y_,test_size=0.2,shuffle=True)"
   ]
  },
  {
   "cell_type": "markdown",
   "metadata": {},
   "source": [
    "## XGboost"
   ]
  },
  {
   "cell_type": "code",
   "execution_count": null,
   "metadata": {},
   "outputs": [],
   "source": [
    "from sklearn.pipeline import Pipeline\n",
    "from sklearn.preprocessing import StandardScaler, Normalizer\n",
    "from catboost import CatBoostClassifier\n",
    "from xgboost import XGBClassifier\n",
    "from lightgbm import LGBMClassifier\n",
    "from sklearn.metrics import classification_report\n",
    "from sklearn.model_selection import train_test_split\n",
    "\n",
    "params = {\n",
    "    \"XGBClassifier__n_estimators\":10,\n",
    "    \"XGBClassifier__booster\":\"gblinear\"\n",
    "}\n",
    "\n",
    "profile_xgb_pipe = Pipeline([(\"StandardScaler\",StandardScaler()),(\"XGBClassifier\",XGBClassifier())])\n",
    "\n",
    "profile_xgb_pipe.set_params(**params)\n",
    "profile_xgb_pipe.fit(X_train_,y_train_)\n",
    "\n",
    "print(classification_report(y_test_, profile_xgb_pipe.predict(X_test_),digits=digits))\n",
    "\n",
    "pds.plot_feature_importance(profile_xgb_pipe)\n",
    "\n",
    "pds.save_results(profile_xgb_pipe,X_test_,y_test_,model_type=\"side\",addition=f\"params: {params}\")"
   ]
  },
  {
   "cell_type": "markdown",
   "metadata": {},
   "source": [
    "## Catboost"
   ]
  },
  {
   "cell_type": "code",
   "execution_count": null,
   "metadata": {},
   "outputs": [],
   "source": [
    "params = {\n",
    "    \"CatBoostClassifier__iterations\":5,\n",
    "    \"CatBoostClassifier__depth\":8,\n",
    "    \"CatBoostClassifier__learning_rate\":0.5\n",
    "}\n",
    "\n",
    "profile_cat_pipe = Pipeline([(\"StandardScaler\",StandardScaler()),(\"CatBoostClassifier\",CatBoostClassifier())])\n",
    "\n",
    "profile_cat_pipe.set_params(**params)\n",
    "profile_cat_pipe.fit(X_train_,y_train_)\n",
    "\n",
    "print(classification_report(y_test_, profile_cat_pipe.predict(X_test_),digits=digits))\n",
    "\n",
    "pds.plot_feature_importance(profile_cat_pipe)\n",
    "\n",
    "pds.save_results(profile_cat_pipe,X_test_,y_test_,model_type=\"side\",addition=f\"params: {params}\")"
   ]
  },
  {
   "cell_type": "code",
   "execution_count": null,
   "metadata": {},
   "outputs": [],
   "source": [
    "print(classification_report(y_test_, profile_cat_pipe.predict(X_test_),digits=digits))"
   ]
  },
  {
   "cell_type": "markdown",
   "metadata": {},
   "source": [
    "## LightGBM"
   ]
  },
  {
   "cell_type": "code",
   "execution_count": null,
   "metadata": {},
   "outputs": [],
   "source": [
    "params = {\n",
    "    \"LGBMClassifier__n_estimators\":10,\n",
    "    \"LGBMClassifier__max_depth\":8,\n",
    "    \"LGBMClassifier__learning_rate\":1.0,\n",
    "    \"LGBMClassifier__num_leaves\":20\n",
    "}\n",
    "\n",
    "profile_lgbm_pipe = Pipeline([(\"StandardScaler\",StandardScaler()),(\"LGBMClassifier\",LGBMClassifier())])\n",
    "\n",
    "profile_lgbm_pipe.set_params(**params)\n",
    "profile_lgbm_pipe.fit(X_train_,y_train_)\n",
    "\n",
    "print(classification_report(y_test_,profile_lgbm_pipe.predict(X_test_),digits=digits))\n",
    "\n",
    "pds.save_results(profile_lgbm_pipe,X_test_,y_test_,model_type=\"side\",addition=\"default settings\")"
   ]
  },
  {
   "cell_type": "code",
   "execution_count": null,
   "metadata": {},
   "outputs": [],
   "source": [
    "pds.plot_feature_importance(profile_lgbm_pipe)"
   ]
  },
  {
   "cell_type": "code",
   "execution_count": null,
   "metadata": {},
   "outputs": [],
   "source": [
    "pds.show_stat_results()"
   ]
  },
  {
   "cell_type": "code",
   "execution_count": null,
   "metadata": {},
   "outputs": [],
   "source": []
  }
 ],
 "metadata": {
  "kernelspec": {
   "display_name": "Python 3",
   "language": "python",
   "name": "python3"
  },
  "language_info": {
   "codemirror_mode": {
    "name": "ipython",
    "version": 3
   },
   "file_extension": ".py",
   "mimetype": "text/x-python",
   "name": "python",
   "nbconvert_exporter": "python",
   "pygments_lexer": "ipython3",
   "version": "3.11.1"
  }
 },
 "nbformat": 4,
 "nbformat_minor": 2
}
